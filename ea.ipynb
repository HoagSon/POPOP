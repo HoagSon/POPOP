{
  "nbformat": 4,
  "nbformat_minor": 0,
  "metadata": {
    "anaconda-cloud": {},
    "kernelspec": {
      "display_name": "Python [Root]",
      "language": "python",
      "name": "Python [Root]"
    },
    "language_info": {
      "codemirror_mode": {
        "name": "ipython",
        "version": 2
      },
      "file_extension": ".py",
      "mimetype": "text/x-python",
      "name": "python",
      "nbconvert_exporter": "python",
      "pygments_lexer": "ipython2",
      "version": "2.7.12"
    },
    "colab": {
      "name": "ea.ipynb",
      "provenance": [],
      "collapsed_sections": [],
      "include_colab_link": true
    }
  },
  "cells": [
    {
      "cell_type": "markdown",
      "metadata": {
        "id": "view-in-github",
        "colab_type": "text"
      },
      "source": [
        "<a href=\"https://colab.research.google.com/github/HoagSon/POPOP/blob/main/ea.ipynb\" target=\"_parent\"><img src=\"https://colab.research.google.com/assets/colab-badge.svg\" alt=\"Open In Colab\"/></a>"
      ]
    },
    {
      "cell_type": "code",
      "metadata": {
        "collapsed": true,
        "id": "YZJ3R7zjmMLp"
      },
      "source": [
        "import numpy as np"
      ],
      "execution_count": null,
      "outputs": []
    },
    {
      "cell_type": "code",
      "metadata": {
        "id": "hUhEE84VmMLr"
      },
      "source": [
        "def initialize_population( num_individuals, num_variables ):\n",
        "    \"\"\"\n",
        "    Khởi tạo quần thể gồm num_individuals cá thể. Mỗi cá thể có num_parameters biến.\n",
        "    \n",
        "    Arguments:\n",
        "    num_individuals -- Số lượng cá thể\n",
        "    num_variables -- Số lượng biến\n",
        "    \n",
        "    Returns:\n",
        "    pop -- Ma trận (num_individuals, num_variables\u001d) chứa quần thể mới được khởi tạo ngẫu nhiên.\n",
        "    \"\"\"\n",
        "    \n",
        "    ### BẮT ĐẦU CODE TỪ ĐÂY ### \n",
        "    pop = np.random.randint(2, size=(num_individuals, num_variables))\n",
        "    \n",
        "    ### DỪNG CODE TẠI ĐÂY ###\n",
        "    \n",
        "    return pop"
      ],
      "execution_count": null,
      "outputs": []
    },
    {
      "cell_type": "code",
      "metadata": {
        "colab": {
          "base_uri": "https://localhost:8080/"
        },
        "id": "6DhZ8th12lJD",
        "outputId": "03e7b7d9-ef0a-47d3-ee73-744d9afb1840"
      },
      "source": [
        "np.random.seed(42)\n",
        "pop = initialize_population(8,4)\n",
        "print(pop)"
      ],
      "execution_count": null,
      "outputs": [
        {
          "output_type": "stream",
          "name": "stdout",
          "text": [
            "[[0 1 0 0]\n",
            " [0 1 0 0]\n",
            " [0 1 0 0]\n",
            " [0 0 1 0]\n",
            " [1 1 1 0]\n",
            " [1 0 1 1]\n",
            " [1 1 1 1]\n",
            " [1 1 0 0]]\n"
          ]
        }
      ]
    },
    {
      "cell_type": "code",
      "metadata": {
        "id": "poknDwSSmMLs"
      },
      "source": [
        "def onemax( ind ):\n",
        "    \"\"\"\n",
        "    Hàm đánh giá OneMax: Đếm số bit 1 trong chuỗi nhị phân (cá thể ind).\n",
        "    \n",
        "    Arguments:\n",
        "    ind -- Cá thể cần được đánh giá.\n",
        "\n",
        "    Returns:\n",
        "    value -- Giá trị của cá thể ind.\n",
        "    \"\"\"\n",
        "    \n",
        "    ### BẮT ĐẦU CODE TỪ ĐÂY ###     \n",
        "    value = np.sum(ind)\n",
        "    \n",
        "    ### DỪNG CODE TẠI ĐÂY ###\n",
        "    \n",
        "    return value"
      ],
      "execution_count": null,
      "outputs": []
    },
    {
      "cell_type": "code",
      "metadata": {
        "colab": {
          "base_uri": "https://localhost:8080/"
        },
        "id": "wpXsGgpK3Vlh",
        "outputId": "4e338023-c6a7-43ce-e879-b5196f8bae73"
      },
      "source": [
        "print(pop)\n",
        "onemax(pop[5,:])"
      ],
      "execution_count": null,
      "outputs": [
        {
          "output_type": "stream",
          "name": "stdout",
          "text": [
            "[[0 1 0 0]\n",
            " [0 1 0 0]\n",
            " [0 1 0 0]\n",
            " [0 0 1 0]\n",
            " [1 1 1 0]\n",
            " [1 0 1 1]\n",
            " [1 1 1 1]\n",
            " [1 1 0 0]]\n"
          ]
        },
        {
          "output_type": "execute_result",
          "data": {
            "text/plain": [
              "3"
            ]
          },
          "metadata": {},
          "execution_count": 5
        }
      ]
    },
    {
      "cell_type": "code",
      "metadata": {
        "id": "Q-xYm-5zmMLu"
      },
      "source": [
        "def evaluate_population( pop ):\n",
        "    \"\"\"\n",
        "    Hàm đánh giá tất cả cá thể trong quần thể.\n",
        "    \n",
        "    Arguments:\n",
        "    pop -- Quàn thể cần được đánh giá.\n",
        "\n",
        "    Returns:\n",
        "    values -- Giá trị của tất cả các cá thể trong quần thể.\n",
        "    \"\"\" \n",
        "\n",
        "    ### BẮT ĐẦU CODE TỪ ĐÂY ### \n",
        "    values = np.array([onemax(ind) for ind in pop])\n",
        "    \n",
        "    ### DỪNG CODE TẠI ĐÂY ###\n",
        "    \n",
        "    return values"
      ],
      "execution_count": null,
      "outputs": []
    },
    {
      "cell_type": "code",
      "metadata": {
        "colab": {
          "base_uri": "https://localhost:8080/"
        },
        "id": "9jyjf5N93qsm",
        "outputId": "536182dd-173a-4864-aa1f-bd60c09da042"
      },
      "source": [
        "pop_fitness = evaluate_population(pop)\n",
        "print(pop_fitness)"
      ],
      "execution_count": null,
      "outputs": [
        {
          "output_type": "stream",
          "name": "stdout",
          "text": [
            "[1 1 1 1 3 3 4 2]\n"
          ]
        }
      ]
    },
    {
      "cell_type": "code",
      "metadata": {
        "id": "xdWzIquvmMLv"
      },
      "source": [
        "def better_fitness( fitness_1, fitness_2, maximization=True ):\n",
        "    \"\"\"\n",
        "    Hàm so sánh độ thích nghi của 2 cá thể.\n",
        "    \n",
        "    Arguments:\n",
        "    fitness_1 -- Độ thích nghi của cá thể 1.\n",
        "    fitness_2 -- Độ thích nghi của cá thể 2.\n",
        "    maximization -- Biến boolean cho biết bài toán đang giải thuộc dạng tối đa hoá (mặc định) hay không\n",
        "    \n",
        "    Returns:\n",
        "    True nếu fitness_1 tốt hơn fitness_2. Ngược lại, trả về False.\n",
        "    \"\"\"\n",
        "    \n",
        "    if maximization:\n",
        "        if fitness_1 > fitness_2:\n",
        "            return True\n",
        "    else:\n",
        "        if fitness_1 < fitness_2:\n",
        "            return True\n",
        "        \n",
        "    return False"
      ],
      "execution_count": null,
      "outputs": []
    },
    {
      "cell_type": "code",
      "metadata": {
        "colab": {
          "base_uri": "https://localhost:8080/"
        },
        "id": "GPcqWMaE4VJ8",
        "outputId": "d1f070ea-b5b1-4e02-fa99-1683438392ec"
      },
      "source": [
        "print(pop)"
      ],
      "execution_count": null,
      "outputs": [
        {
          "output_type": "stream",
          "name": "stdout",
          "text": [
            "[[0 1 0 0]\n",
            " [0 1 0 0]\n",
            " [0 1 0 0]\n",
            " [0 0 1 0]\n",
            " [1 1 1 0]\n",
            " [1 0 1 1]\n",
            " [1 1 1 1]\n",
            " [1 1 0 0]]\n"
          ]
        }
      ]
    },
    {
      "cell_type": "code",
      "metadata": {
        "colab": {
          "base_uri": "https://localhost:8080/"
        },
        "id": "dUtqP0WSlue4",
        "outputId": "30b98a68-65dd-47e9-9301-7c4754cb6e2b"
      },
      "source": [
        "for i in range(0, 8, 4):\n",
        "  print(i)"
      ],
      "execution_count": null,
      "outputs": [
        {
          "output_type": "stream",
          "name": "stdout",
          "text": [
            "0\n",
            "4\n"
          ]
        }
      ]
    },
    {
      "cell_type": "code",
      "metadata": {
        "id": "aPVYVkGwmMLv"
      },
      "source": [
        "def tournament_selection( pop, pop_fitness, selection_size, tournament_size):\n",
        "    \"\"\"\n",
        "    Hàm chọn lọc cạnh tranh.\n",
        "    \n",
        "    Arguments:\n",
        "    pop -- Quần thể để thực hiện phép chọn lọc.\n",
        "    pop_fitness -- Mảng 1 chiều chứa giá trị (độ thích nghi) của từng cá thể trong quần thể.\n",
        "    selection_size -- Số lượng cá thể \u001dsẽ được chọn.\n",
        "    tournament_size -- Kích thước của tournament: Số lượng các cá thể được so sánh với nhau mỗi lần.\n",
        "    \n",
        "    Returns:\n",
        "    selected_indices -- Chỉ số của những cá thể trong quần thể pop được chọn. Chỉ số có thể được lặp lại.\n",
        "    \"\"\"\n",
        "    \n",
        "    ### BẮT ĐẦU CODE TỪ ĐÂY ### \n",
        "    num_individuals = len(pop)\n",
        "    indices = np.arange(num_individuals)\n",
        "    selected_indices = []\n",
        "    \n",
        "    while len(selected_indices) < selection_size:\n",
        "        # Đảo ngẫu nhiên thứ tự các cá thể trong quần thể.\n",
        "        np.random.shuffle(indices)\n",
        "        \n",
        "        for i in range(0, num_individuals, tournament_size):\n",
        "          best_idx = i \n",
        "          for idx in range(1, tournament_size):\n",
        "            if better_fitness(pop_fitness[indices[i+idx]], pop_fitness[indices[best_idx]]):\n",
        "              best_idx = i+idx\n",
        "          selected_indices.append(indices[best_idx])\n",
        "      \n",
        "    selected_indices = np.array(selected_indices)\n",
        "\n",
        "        \n",
        "\n",
        "    ### DỪNG CODE TẠI ĐÂY ###\n",
        "    \n",
        "    return selected_indices"
      ],
      "execution_count": null,
      "outputs": []
    },
    {
      "cell_type": "code",
      "metadata": {
        "colab": {
          "base_uri": "https://localhost:8080/"
        },
        "id": "5vCfqhU35cmy",
        "outputId": "dd2a1d0b-106c-49a4-9851-fd68fb69172c"
      },
      "source": [
        "print(pop)\n",
        "selected_indices = tournament_selection(pop, pop_fitness, 4, 4)\n",
        "print(selected_indices)\n",
        "print(pop[selected_indices])"
      ],
      "execution_count": null,
      "outputs": [
        {
          "output_type": "stream",
          "name": "stdout",
          "text": [
            "[[0 1 0 0]\n",
            " [0 1 0 0]\n",
            " [0 1 0 0]\n",
            " [0 0 1 0]\n",
            " [1 1 1 0]\n",
            " [1 0 1 1]\n",
            " [1 1 1 1]\n",
            " [1 1 0 0]]\n",
            "[4 6 6 4]\n",
            "[[1 1 1 0]\n",
            " [1 1 1 1]\n",
            " [1 1 1 1]\n",
            " [1 1 1 0]]\n"
          ]
        }
      ]
    },
    {
      "cell_type": "code",
      "metadata": {
        "id": "Ge94BH6_mMLx"
      },
      "source": [
        "def variation( pop ):\n",
        "    \"\"\"\n",
        "    Hàm biến đổi tạo ra các cá thể con.\n",
        "    \n",
        "    Arguments:\n",
        "    pop -- Quàn thể hiện tại.\n",
        "\n",
        "    Returns:\n",
        "    offspring -- Quần thể chứa các cá thể con được sinh ra.\n",
        "    \"\"\"  \n",
        "    \n",
        "    ### BẮT ĐẦU CODE TỪ ĐÂY ### \n",
        "    num_individuals = len(pop)\n",
        "    num_parameters = len(pop[0])\n",
        "    indices = np.arange(num_individuals)\n",
        "    # Đảo ngẫu nhiên thứ tự các cá thể trong quần thể\n",
        "    np.random.shuffle(indices)\n",
        "    offspring = []\n",
        "    \n",
        "    for i in range(0, num_individuals, 2):\n",
        "        idx1 = indices[i]\n",
        "        idx2 = indices[i+1]\n",
        "        offspring1 = list(pop[idx1])\n",
        "        offspring2 = list(pop[idx2])\n",
        "        \n",
        "        # Cài đặt phép lai đồng nhất uniform crossover. \n",
        "        # Không cần cài đặt đột biến mutation.\n",
        "        for idx in range(0, num_parameters):\n",
        "          r = np.random.rand()\n",
        "          if r < 0.5:\n",
        "            temp = offspring2[idx]\n",
        "            offspring2[idx] = offspring1[idx]\n",
        "            offspring1[idx] = temp\n",
        "\n",
        "        offspring.append(offspring1)\n",
        "        offspring.append(offspring2)\n",
        "\n",
        "\n",
        "    ### DỪNG CODE TẠI ĐÂY ###\n",
        "    \n",
        "    offspring = np.array(offspring)\n",
        "    return offspring"
      ],
      "execution_count": null,
      "outputs": []
    },
    {
      "cell_type": "code",
      "metadata": {
        "id": "f48pgHskmMLy"
      },
      "source": [
        "def popop(num_individuals, num_parameters, num_generations):\n",
        "    \"\"\"\n",
        "    Hàm cài đặt thuật giải di truyền theo các bước P->O->(P+O)->P\n",
        "    \n",
        "    Arguments:\n",
        "    num_individuals -- Số lượng cá thể trong quần thể.\n",
        "    num_parameters -- Số lượng biến.\n",
        "    num_generations -- Số thế hệ thuật toán sẽ chạy.\n",
        "\n",
        "    Returns:\n",
        "    In ra quần thể ở thế hệ cuối cùng và giá trị của từng cá thể.\n",
        "    \"\"\" \n",
        "\n",
        "    ### BẮT ĐẦU CODE TỪ ĐÂY ### \n",
        "    # Khởi tạo quần thể\n",
        "    pop = initialize_population(num_individuals, num_parameters)\n",
        "    pop_fitness = evaluate_population(pop)\n",
        "    print(\"#Gen 0:\")\n",
        "    print(pop_fitness)\n",
        "    \n",
        "    # Sử dụng tournament_size 4 và selection_size là bằng kích thước quần thể\n",
        "    selection_size = len(pop)\n",
        "    tournament_size = 4\n",
        "\n",
        "    for i in range(num_generations):\n",
        "        # Tạo ra các cá thể con và đánh giá chúng\n",
        "        offspring = variation(pop)\n",
        "        offspring_fitness = evaluate_population(offspring)\n",
        "        \n",
        "        # Tạo ra quần thể pool gồm quần thể hiện tại pop và offspring\n",
        "        pool = np.vstack((pop,offspring))\n",
        "        pool_fitness = np.hstack((pop_fitness, offspring_fitness))\n",
        "\n",
        "        # Thực hiện tournament selection trên quần thể pool \n",
        "        pool_indices = tournament_selection(pop, pop_fitness, selection_size, tournament_size)\n",
        "        # Thay thế quần thể hiện tại bằng những cá thể được chọn ra từ pool.\n",
        "        pop = pool[pool_indices, :]\n",
        "        pop_fitness = pool_fitness[pool_indices]\n",
        "        print(\"#Gen {}:\".format(i+1))\n",
        "        print(pop_fitness)\n",
        "\n",
        "    ### DỪNG CODE TẠI ĐÂY ###\n",
        "    print(\"#Result:\")\n",
        "    print(pop)\n",
        "    print(pop_fitness)"
      ],
      "execution_count": null,
      "outputs": []
    },
    {
      "cell_type": "code",
      "metadata": {
        "id": "9O1avjQKmML0",
        "colab": {
          "base_uri": "https://localhost:8080/"
        },
        "outputId": "11a13508-30c9-4a47-c7ec-76ede8042611"
      },
      "source": [
        "# Trường hợp kích thước quần thể là 4\n",
        "np.random.seed(1)\n",
        "num_parameters = 4\n",
        "num_individuals = 8\n",
        "num_generations = 10\n",
        "popop(num_individuals, num_parameters, num_generations)"
      ],
      "execution_count": null,
      "outputs": [
        {
          "output_type": "stream",
          "name": "stdout",
          "text": [
            "#Gen 0:\n",
            "[2 4 2 2 1 1 1 1]\n",
            "#Gen 1:\n",
            "[4 2 4 2 2 4 2 4]\n",
            "#Gen 2:\n",
            "[4 4 4 2 4 4 4 4]\n",
            "#Gen 3:\n",
            "[4 4 4 4 4 4 4 4]\n",
            "#Gen 4:\n",
            "[4 4 4 4 4 4 4 4]\n",
            "#Gen 5:\n",
            "[4 4 4 4 4 4 4 4]\n",
            "#Gen 6:\n",
            "[4 4 4 4 4 4 4 4]\n",
            "#Gen 7:\n",
            "[4 4 4 4 4 4 4 4]\n",
            "#Gen 8:\n",
            "[4 4 4 4 4 4 4 4]\n",
            "#Gen 9:\n",
            "[4 4 4 4 4 4 4 4]\n",
            "#Gen 10:\n",
            "[4 4 4 4 4 4 4 4]\n",
            "#Result:\n",
            "[[1 1 1 1]\n",
            " [1 1 1 1]\n",
            " [1 1 1 1]\n",
            " [1 1 1 1]\n",
            " [1 1 1 1]\n",
            " [1 1 1 1]\n",
            " [1 1 1 1]\n",
            " [1 1 1 1]]\n",
            "[4 4 4 4 4 4 4 4]\n"
          ]
        }
      ]
    },
    {
      "cell_type": "code",
      "metadata": {
        "id": "WB7EvfcKmML1",
        "colab": {
          "base_uri": "https://localhost:8080/"
        },
        "outputId": "f5c54de5-30c1-4a85-ae66-472183cf6f82"
      },
      "source": [
        "# Trường hợp kích thước quần thể là 8\n",
        "np.random.seed(1)\n",
        "num_parameters = 20\n",
        "num_individuals = 8\n",
        "num_generations = 10\n",
        "popop(num_individuals, num_parameters, num_generations)"
      ],
      "execution_count": null,
      "outputs": [
        {
          "output_type": "stream",
          "name": "stdout",
          "text": [
            "#Gen 0:\n",
            "[11  8 13 11 12 10 12  9]\n",
            "#Gen 1:\n",
            "[13 11 13 12 13 12 13 12]\n",
            "#Gen 2:\n",
            "[13 13 13 13 13 13 13 13]\n",
            "#Gen 3:\n",
            "[13 13 13 13 13 13 13 13]\n",
            "#Gen 4:\n",
            "[13 13 13 13 13 13 13 13]\n",
            "#Gen 5:\n",
            "[13 13 13 13 13 13 13 13]\n",
            "#Gen 6:\n",
            "[13 13 13 13 13 13 13 13]\n",
            "#Gen 7:\n",
            "[13 13 13 13 13 13 13 13]\n",
            "#Gen 8:\n",
            "[13 13 13 13 13 13 13 13]\n",
            "#Gen 9:\n",
            "[13 13 13 13 13 13 13 13]\n",
            "#Gen 10:\n",
            "[13 13 13 13 13 13 13 13]\n",
            "#Result:\n",
            "[[1 1 1 1 1 1 0 1 1 0 0 1 0 0 1 1 1 0 1 0]\n",
            " [1 1 1 1 1 1 0 1 1 0 0 1 0 0 1 1 1 0 1 0]\n",
            " [1 1 1 1 1 1 0 1 1 0 0 1 0 0 1 1 1 0 1 0]\n",
            " [1 1 1 1 1 1 0 1 1 0 0 1 0 0 1 1 1 0 1 0]\n",
            " [1 1 1 1 1 1 0 1 1 0 0 1 0 0 1 1 1 0 1 0]\n",
            " [1 1 1 1 1 1 0 1 1 0 0 1 0 0 1 1 1 0 1 0]\n",
            " [1 1 1 1 1 1 0 1 1 0 0 1 0 0 1 1 1 0 1 0]\n",
            " [1 1 1 1 1 1 0 1 1 0 0 1 0 0 1 1 1 0 1 0]]\n",
            "[13 13 13 13 13 13 13 13]\n"
          ]
        }
      ]
    },
    {
      "cell_type": "code",
      "metadata": {
        "id": "wp149-CemML2",
        "colab": {
          "base_uri": "https://localhost:8080/"
        },
        "outputId": "a8dfd8a1-47a8-4eaa-cc47-a59445b7f180"
      },
      "source": [
        "# Trường hợp kích thước quần thể là 16\n",
        "np.random.seed(1)\n",
        "num_parameters = 20\n",
        "num_individuals = 16\n",
        "num_generations = 10\n",
        "popop(num_individuals, num_parameters, num_generations)"
      ],
      "execution_count": null,
      "outputs": [
        {
          "output_type": "stream",
          "name": "stdout",
          "text": [
            "#Gen 0:\n",
            "[11  8 13 11 12 10 12  9  8  7 10 13 12 10  8 11]\n",
            "#Gen 1:\n",
            "[13 12 11 13 12 13 13 11 12 12 13 13 13 12 13 12]\n",
            "#Gen 2:\n",
            "[13 13 13 13 13 13 13 13 13 13 13 13 13 13 13 13]\n",
            "#Gen 3:\n",
            "[13 13 13 13 13 13 13 13 13 13 13 13 13 13 13 13]\n",
            "#Gen 4:\n",
            "[13 13 13 13 13 13 13 13 13 13 13 13 13 13 13 13]\n",
            "#Gen 5:\n",
            "[13 13 13 13 13 13 13 13 13 13 13 13 13 13 13 13]\n",
            "#Gen 6:\n",
            "[13 13 13 13 13 13 13 13 13 13 13 13 13 13 13 13]\n",
            "#Gen 7:\n",
            "[13 13 13 13 13 13 13 13 13 13 13 13 13 13 13 13]\n",
            "#Gen 8:\n",
            "[13 13 13 13 13 13 13 13 13 13 13 13 13 13 13 13]\n",
            "#Gen 9:\n",
            "[13 13 13 13 13 13 13 13 13 13 13 13 13 13 13 13]\n",
            "#Gen 10:\n",
            "[13 13 13 13 13 13 13 13 13 13 13 13 13 13 13 13]\n",
            "#Result:\n",
            "[[1 1 1 1 1 1 0 1 1 0 0 1 0 0 1 1 1 0 1 0]\n",
            " [1 1 1 1 1 1 0 1 1 0 0 1 0 0 1 1 1 0 1 0]\n",
            " [1 1 1 1 1 1 0 1 1 0 0 1 0 0 1 1 1 0 1 0]\n",
            " [1 1 1 1 1 1 0 1 1 0 0 1 0 0 1 1 1 0 1 0]\n",
            " [1 1 1 1 1 1 0 1 1 0 0 1 0 0 1 1 1 0 1 0]\n",
            " [1 1 1 1 1 1 0 1 1 0 0 1 0 0 1 1 1 0 1 0]\n",
            " [1 1 1 1 1 1 0 1 1 0 0 1 0 0 1 1 1 0 1 0]\n",
            " [1 1 1 1 1 1 0 1 1 0 0 1 0 0 1 1 1 0 1 0]\n",
            " [1 1 1 1 1 1 0 1 1 0 0 1 0 0 1 1 1 0 1 0]\n",
            " [1 1 1 1 0 1 0 0 1 0 1 0 1 1 0 1 1 0 1 1]\n",
            " [1 1 1 1 1 1 0 1 1 0 0 1 0 0 1 1 1 0 1 0]\n",
            " [1 1 1 1 1 1 0 1 1 0 0 1 0 0 1 1 1 0 1 0]\n",
            " [1 1 1 1 0 1 0 0 1 0 1 0 1 1 0 1 1 0 1 1]\n",
            " [1 1 1 1 1 1 0 1 1 0 0 1 0 0 1 1 1 0 1 0]\n",
            " [1 1 1 1 1 1 0 1 1 0 0 1 0 0 1 1 1 0 1 0]\n",
            " [1 1 1 1 1 1 0 1 1 0 0 1 0 0 1 1 1 0 1 0]]\n",
            "[13 13 13 13 13 13 13 13 13 13 13 13 13 13 13 13]\n"
          ]
        }
      ]
    },
    {
      "cell_type": "code",
      "metadata": {
        "id": "n3s72YOYmML3",
        "colab": {
          "base_uri": "https://localhost:8080/"
        },
        "outputId": "e3ac6f0f-2d43-4d5b-94b4-2eaf854dfb0e"
      },
      "source": [
        "# Hãy thay đổi random seed, số lượng biến, kích thước quần thể, số thế hệ \n",
        "# và quan sát thuật toán có giải được bài toán hay không.\n",
        "np.random.seed(2)\n",
        "num_parameters = 20\n",
        "num_individuals = 16\n",
        "num_generations = 30\n",
        "popop(num_individuals, num_parameters, num_generations)"
      ],
      "execution_count": null,
      "outputs": [
        {
          "output_type": "stream",
          "name": "stdout",
          "text": [
            "#Gen 0:\n",
            "[12 10  9 10  4 10 10 13 10 10 15 10  9 12 11  9]\n",
            "#Gen 1:\n",
            "[10 12 13 15 15 12 13 12 12 10 15 13 12 11 15 12]\n",
            "#Gen 2:\n",
            "[12 13 15 15 15 13 12 15 13 15 15 15 13 15 13 15]\n",
            "#Gen 3:\n",
            "[15 15 15 15 15 15 15 15 15 15 15 15 15 15 15 15]\n",
            "#Gen 4:\n",
            "[15 15 15 15 15 15 15 15 15 15 15 15 15 15 15 15]\n",
            "#Gen 5:\n",
            "[15 15 15 15 15 15 15 15 15 15 15 15 15 15 15 15]\n",
            "#Gen 6:\n",
            "[15 15 15 15 15 15 15 15 15 15 15 15 15 15 15 15]\n",
            "#Gen 7:\n",
            "[15 15 15 15 15 15 15 15 15 15 15 15 15 15 15 15]\n",
            "#Gen 8:\n",
            "[15 15 15 15 15 15 15 15 15 15 15 15 15 15 15 15]\n",
            "#Gen 9:\n",
            "[15 15 15 15 15 15 15 15 15 15 15 15 15 15 15 15]\n",
            "#Gen 10:\n",
            "[15 15 15 15 15 15 15 15 15 15 15 15 15 15 15 15]\n",
            "#Gen 11:\n",
            "[15 15 15 15 15 15 15 15 15 15 15 15 15 15 15 15]\n",
            "#Gen 12:\n",
            "[15 15 15 15 15 15 15 15 15 15 15 15 15 15 15 15]\n",
            "#Gen 13:\n",
            "[15 15 15 15 15 15 15 15 15 15 15 15 15 15 15 15]\n",
            "#Gen 14:\n",
            "[15 15 15 15 15 15 15 15 15 15 15 15 15 15 15 15]\n",
            "#Gen 15:\n",
            "[15 15 15 15 15 15 15 15 15 15 15 15 15 15 15 15]\n",
            "#Gen 16:\n",
            "[15 15 15 15 15 15 15 15 15 15 15 15 15 15 15 15]\n",
            "#Gen 17:\n",
            "[15 15 15 15 15 15 15 15 15 15 15 15 15 15 15 15]\n",
            "#Gen 18:\n",
            "[15 15 15 15 15 15 15 15 15 15 15 15 15 15 15 15]\n",
            "#Gen 19:\n",
            "[15 15 15 15 15 15 15 15 15 15 15 15 15 15 15 15]\n",
            "#Gen 20:\n",
            "[15 15 15 15 15 15 15 15 15 15 15 15 15 15 15 15]\n",
            "#Gen 21:\n",
            "[15 15 15 15 15 15 15 15 15 15 15 15 15 15 15 15]\n",
            "#Gen 22:\n",
            "[15 15 15 15 15 15 15 15 15 15 15 15 15 15 15 15]\n",
            "#Gen 23:\n",
            "[15 15 15 15 15 15 15 15 15 15 15 15 15 15 15 15]\n",
            "#Gen 24:\n",
            "[15 15 15 15 15 15 15 15 15 15 15 15 15 15 15 15]\n",
            "#Gen 25:\n",
            "[15 15 15 15 15 15 15 15 15 15 15 15 15 15 15 15]\n",
            "#Gen 26:\n",
            "[15 15 15 15 15 15 15 15 15 15 15 15 15 15 15 15]\n",
            "#Gen 27:\n",
            "[15 15 15 15 15 15 15 15 15 15 15 15 15 15 15 15]\n",
            "#Gen 28:\n",
            "[15 15 15 15 15 15 15 15 15 15 15 15 15 15 15 15]\n",
            "#Gen 29:\n",
            "[15 15 15 15 15 15 15 15 15 15 15 15 15 15 15 15]\n",
            "#Gen 30:\n",
            "[15 15 15 15 15 15 15 15 15 15 15 15 15 15 15 15]\n",
            "#Result:\n",
            "[[0 1 1 1 1 0 1 1 0 1 0 0 1 1 1 1 1 1 1 1]\n",
            " [0 1 1 1 1 0 1 1 0 1 0 0 1 1 1 1 1 1 1 1]\n",
            " [0 1 1 1 1 0 1 1 0 1 0 0 1 1 1 1 1 1 1 1]\n",
            " [0 1 1 1 1 0 1 1 0 1 0 0 1 1 1 1 1 1 1 1]\n",
            " [0 1 1 1 1 0 1 1 0 1 0 0 1 1 1 1 1 1 1 1]\n",
            " [0 1 1 1 1 0 1 1 0 1 0 0 1 1 1 1 1 1 1 1]\n",
            " [0 1 1 1 1 0 1 1 0 1 0 0 1 1 1 1 1 1 1 1]\n",
            " [0 1 1 1 1 0 1 1 0 1 0 0 1 1 1 1 1 1 1 1]\n",
            " [0 1 1 1 1 0 1 1 0 1 0 0 1 1 1 1 1 1 1 1]\n",
            " [0 1 1 1 1 0 1 1 0 1 0 0 1 1 1 1 1 1 1 1]\n",
            " [0 1 1 1 1 0 1 1 0 1 0 0 1 1 1 1 1 1 1 1]\n",
            " [0 1 1 1 1 0 1 1 0 1 0 0 1 1 1 1 1 1 1 1]\n",
            " [0 1 1 1 1 0 1 1 0 1 0 0 1 1 1 1 1 1 1 1]\n",
            " [0 1 1 1 1 0 1 1 0 1 0 0 1 1 1 1 1 1 1 1]\n",
            " [0 1 1 1 1 0 1 1 0 1 0 0 1 1 1 1 1 1 1 1]\n",
            " [0 1 1 1 1 0 1 1 0 1 0 0 1 1 1 1 1 1 1 1]]\n",
            "[15 15 15 15 15 15 15 15 15 15 15 15 15 15 15 15]\n"
          ]
        }
      ]
    },
    {
      "cell_type": "code",
      "metadata": {
        "collapsed": true,
        "id": "Qtt85MlrmML4"
      },
      "source": [
        ""
      ],
      "execution_count": null,
      "outputs": []
    }
  ]
}